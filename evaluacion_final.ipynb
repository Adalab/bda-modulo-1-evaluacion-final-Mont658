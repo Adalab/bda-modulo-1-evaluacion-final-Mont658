{
 "cells": [
  {
   "cell_type": "markdown",
   "id": "8540fd9f",
   "metadata": {},
   "source": [
    "# Mi tienda"
   ]
  },
  {
   "cell_type": "code",
   "execution_count": null,
   "id": "0b27f8a3",
   "metadata": {},
   "outputs": [],
   "source": [
    "inventario = [[{'nombre': 'Camisa', 'precio': 20, 'cantidad': 40},\n",
    "      {'nombre': 'Pantalón', 'precio': 30, 'cantidad': 30}]]\n",
    "\n",
    "clientes =  {'Cliente1': {'email': 'cliente1@email.com', 'compras': []},\n",
    "      'Cliente2': {'email': 'cliente2@email.com', 'compras': []}}\n",
    "\n",
    "ventas_totales = 0"
   ]
  }
 ],
 "metadata": {
  "language_info": {
   "name": "python"
  }
 },
 "nbformat": 4,
 "nbformat_minor": 5
}
